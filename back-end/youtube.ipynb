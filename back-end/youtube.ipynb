{
 "cells": [
  {
   "cell_type": "code",
   "execution_count": 17,
   "id": "6ca366f0",
   "metadata": {},
   "outputs": [
    {
     "name": "stdout",
     "output_type": "stream",
     "text": [
      "['__init__', 'fetch', 'list']\n"
     ]
    }
   ],
   "source": [
    "import inspect\n",
    "from youtube_transcript_api import YouTubeTranscriptApi\n",
    "\n",
    "print([m for m, f in inspect.getmembers(YouTubeTranscriptApi, inspect.isfunction)])\n"
   ]
  },
  {
   "cell_type": "code",
   "execution_count": 18,
   "id": "6fe83413",
   "metadata": {},
   "outputs": [
    {
     "name": "stdout",
     "output_type": "stream",
     "text": [
      "<class 'youtube_transcript_api._transcripts.TranscriptList'>\n",
      "For this video (QVz0tXw7-FE) transcripts are available in the following languages:\n",
      "\n",
      "(MANUALLY CREATED)\n",
      " - en (\"English\")[TRANSLATABLE]\n",
      "\n",
      "(GENERATED)\n",
      " - en (\"English (auto-generated)\")[TRANSLATABLE]\n",
      "\n",
      "(TRANSLATION LANGUAGES)\n",
      " - ar (\"Arabic\")\n",
      " - zh-Hant (\"Chinese (Traditional)\")\n",
      " - nl (\"Dutch\")\n",
      " - fr (\"French\")\n",
      " - de (\"German\")\n",
      " - hi (\"Hindi\")\n",
      " - id (\"Indonesian\")\n",
      " - it (\"Italian\")\n",
      " - ja (\"Japanese\")\n",
      " - ko (\"Korean\")\n",
      " - pt (\"Portuguese\")\n",
      " - ru (\"Russian\")\n",
      " - es (\"Spanish\")\n",
      " - th (\"Thai\")\n",
      " - tr (\"Turkish\")\n",
      " - uk (\"Ukrainian\")\n",
      " - vi (\"Vietnamese\")\n"
     ]
    }
   ],
   "source": [
    "from youtube_transcript_api import YouTubeTranscriptApi\n",
    "\n",
    "video_id = \"QVz0tXw7-FE\"\n",
    "\n",
    "# Crée une instance\n",
    "api = YouTubeTranscriptApi()\n",
    "\n",
    "# Appelle list() sur l’instance\n",
    "transcripts = api.list(video_id)\n",
    "\n",
    "print(type(transcripts))\n",
    "print(transcripts)\n"
   ]
  },
  {
   "cell_type": "code",
   "execution_count": 1,
   "id": "248431ea",
   "metadata": {},
   "outputs": [],
   "source": [
    "import os\n",
    "from dotenv import load_dotenv\n",
    "from googleapiclient.discovery import build\n",
    "\n",
    "load_dotenv()\n",
    "\n",
    "api_key = os.getenv(\"API_KEY\")\n",
    "youtube = build('youtube', 'v3', developerKey=api_key)"
   ]
  },
  {
   "cell_type": "code",
   "execution_count": 2,
   "id": "bf2bf65f",
   "metadata": {},
   "outputs": [
    {
     "name": "stdout",
     "output_type": "stream",
     "text": [
      "=== Transcript anglais ===\n",
      "\n",
      "What's up, guys? Jeff Cavaliere, ATHLEANX.com. I'm talking to the skinny guys today. Now don't worry, it's going to be helpful\n",
      "for all, but I'm going to get inside the minds of the skinny guys because I know what the\n",
      "hell you're thinking. I've been one and I know how to get you a\n",
      "lot bigger than you are right now because I know the things that you should be focusing\n",
      "on. Today I'm going to tell you exactly what to\n",
      "focus on in your workouts if you don’t want to be skinny anymore. The first thing I'm going to tell you to do\n",
      "– shocker – is get your ass to the gym. Now, it's not about telling you to start working\n",
      "out. You already know that. You're probably already doing that. I'm saying get yourself to the gym. Face your fears. Remember I said I was going to get in your\n",
      "head? I know what you're thinking. You're maybe a little nervous to go to the\n",
      "gym because you're afraid of the ridicule being the skinny guy. You look around, you see all these guys lifting\n",
      "heavy weights, grunting, groaning, ...\n"
     ]
    }
   ],
   "source": [
    "import re\n",
    "from youtube_transcript_api import YouTubeTranscriptApi, TranscriptsDisabled, NoTranscriptFound\n",
    "\n",
    "def get_video_id(url: str) -> str:\n",
    "    \"\"\"\n",
    "    Extrait l'ID de la vidéo à partir d'une URL YouTube.\n",
    "    \"\"\"\n",
    "    pattern = r\"(?:v=|\\/)([0-9A-Za-z_-]{11}).*\"\n",
    "    match = re.search(pattern, url)\n",
    "    if not match:\n",
    "        raise ValueError(\"Impossible de trouver l'ID de la vidéo.\")\n",
    "    return match.group(1)\n",
    "\n",
    "def get_transcript_english(url: str):\n",
    "    try:\n",
    "        video_id = get_video_id(url)\n",
    "        api = YouTubeTranscriptApi()\n",
    "        transcripts = api.list(video_id)\n",
    "\n",
    "        # Sélection du transcript en anglais\n",
    "        transcript = transcripts.find_transcript(['en'])\n",
    "\n",
    "        # Récupération → liste de FetchedTranscriptSnippet\n",
    "        data = transcript.fetch()\n",
    "\n",
    "        # Transformation en texte continu\n",
    "        full_text = \" \".join(entry.text for entry in data)\n",
    "\n",
    "        return full_text\n",
    "\n",
    "    except TranscriptsDisabled:\n",
    "        return \"⚠️ Les sous-titres sont désactivés pour cette vidéo.\"\n",
    "    except NoTranscriptFound:\n",
    "        return \"⚠️ Aucun transcript disponible en anglais pour cette vidéo.\"\n",
    "    except Exception as e:\n",
    "        return f\"Erreur : {e}\"\n",
    "\n",
    "\n",
    "if __name__ == \"__main__\":\n",
    "    video_url = \"https://www.youtube.com/watch?v=QVz0tXw7-FE\"\n",
    "    transcript_text = get_transcript_english(video_url)\n",
    "\n",
    "    print(\"=== Transcript anglais ===\\n\")\n",
    "    print(transcript_text[:1000], \"...\")  # affiche les ~1000 premiers caractères\n"
   ]
  },
  {
   "cell_type": "markdown",
   "id": "076de7d2",
   "metadata": {},
   "source": [
    "                                            a"
   ]
  },
  {
   "cell_type": "code",
   "execution_count": 3,
   "id": "0132b233",
   "metadata": {},
   "outputs": [
    {
     "name": "stdout",
     "output_type": "stream",
     "text": [
      "Resolved CHANNEL_ID: UCe0TLA0EsQbE-MjuHXevj2A\n",
      "Found 23 videos\n",
      "['https://www.youtube.com/watch?v=ZJ09graxv8U', 'https://www.youtube.com/watch?v=-7TPSr0-yo4', 'https://www.youtube.com/watch?v=Lr9JJNJS7dY', 'https://www.youtube.com/watch?v=Iio94MY5jFM', 'https://www.youtube.com/watch?v=uXTbDvyhbnA', 'https://www.youtube.com/watch?v=72ZQ8buGL6I', 'https://www.youtube.com/watch?v=IlqmuM9FPUU', 'https://www.youtube.com/watch?v=zp1Fus-pgZo', 'https://www.youtube.com/watch?v=a6jkHbYyHgk', 'https://www.youtube.com/watch?v=Y12vQQ7meYs'] ...\n"
     ]
    }
   ],
   "source": [
    "import os\n",
    "from dotenv import load_dotenv\n",
    "from googleapiclient.discovery import build\n",
    "\n",
    "# Load API key from .env\n",
    "load_dotenv()\n",
    "api_key = os.getenv(\"API_KEY\")\n",
    "\n",
    "# Build the YouTube API client\n",
    "youtube = build(\"youtube\", \"v3\", developerKey=api_key)\n",
    "\n",
    "# Function to resolve @handle -> channel ID\n",
    "def get_channel_id_from_handle(youtube, handle: str) -> str:\n",
    "    request = youtube.search().list(\n",
    "        part=\"snippet\",\n",
    "        q=handle,\n",
    "        type=\"channel\",\n",
    "        maxResults=1\n",
    "    )\n",
    "    response = request.execute()\n",
    "    return response[\"items\"][0][\"snippet\"][\"channelId\"]\n",
    "\n",
    "# Resolve Athlean-X channel ID\n",
    "CHANNEL_HANDLE = \"@athleanx\"\n",
    "CHANNEL_ID = get_channel_id_from_handle(youtube, CHANNEL_HANDLE)\n",
    "print(\"Resolved CHANNEL_ID:\", CHANNEL_ID)\n",
    "\n",
    "# Now fetch all video URLs\n",
    "video_urls = []\n",
    "next_page_token = None\n",
    "\n",
    "while True:\n",
    "    request = youtube.search().list(\n",
    "        part=\"id\",\n",
    "        channelId=CHANNEL_ID,\n",
    "        maxResults=50,   # maximum allowed per request\n",
    "        order=\"date\",    # newest first\n",
    "        pageToken=next_page_token\n",
    "    )\n",
    "    response = request.execute()\n",
    "\n",
    "    for item in response.get(\"items\", []):\n",
    "        if item[\"id\"][\"kind\"] == \"youtube#video\":\n",
    "            video_id = item[\"id\"][\"videoId\"]\n",
    "            video_urls.append(f\"https://www.youtube.com/watch?v={video_id}\")\n",
    "\n",
    "    # Get next page if available\n",
    "    next_page_token = response.get(\"nextPageToken\")\n",
    "    if not next_page_token:\n",
    "        break\n",
    "\n",
    "print(f\"Found {len(video_urls)} videos\")\n",
    "print(video_urls[:10], \"...\")  # show first 10 for preview\n"
   ]
  },
  {
   "cell_type": "code",
   "execution_count": 4,
   "id": "e922a6b1",
   "metadata": {},
   "outputs": [
    {
     "name": "stdout",
     "output_type": "stream",
     "text": [
      "Resolved CHANNEL_ID: UCe0TLA0EsQbE-MjuHXevj2A\n",
      "Uploads Playlist ID: UUe0TLA0EsQbE-MjuHXevj2A\n",
      "Found 1632 videos in total\n",
      "['https://www.youtube.com/watch?v=ZJ09graxv8U', 'https://www.youtube.com/watch?v=-7TPSr0-yo4', 'https://www.youtube.com/watch?v=F8DErukW4yo', 'https://www.youtube.com/watch?v=A2s4QLmND2E', 'https://www.youtube.com/watch?v=JA3Ys9v4NyI', 'https://www.youtube.com/watch?v=tVA7S5_MeqQ', 'https://www.youtube.com/watch?v=Fz7wUtKh3gQ', 'https://www.youtube.com/watch?v=THqN40NcT8M', 'https://www.youtube.com/watch?v=Yms9gHkXQf8', 'https://www.youtube.com/watch?v=_M0mJjxDI68'] ...\n"
     ]
    }
   ],
   "source": [
    "import os\n",
    "from dotenv import load_dotenv\n",
    "from googleapiclient.discovery import build\n",
    "\n",
    "# Load API key\n",
    "load_dotenv()\n",
    "api_key = os.getenv(\"API_KEY\")\n",
    "\n",
    "youtube = build(\"youtube\", \"v3\", developerKey=api_key)\n",
    "\n",
    "# Resolve @handle -> channel ID\n",
    "def get_channel_id_from_handle(youtube, handle: str) -> str:\n",
    "    request = youtube.search().list(\n",
    "        part=\"snippet\",\n",
    "        q=handle,\n",
    "        type=\"channel\",\n",
    "        maxResults=1\n",
    "    )\n",
    "    response = request.execute()\n",
    "    return response[\"items\"][0][\"snippet\"][\"channelId\"]\n",
    "\n",
    "CHANNEL_HANDLE = \"@athleanx\"\n",
    "CHANNEL_ID = get_channel_id_from_handle(youtube, CHANNEL_HANDLE)\n",
    "print(\"Resolved CHANNEL_ID:\", CHANNEL_ID)\n",
    "\n",
    "# Step 1: Get the \"uploads\" playlist ID for this channel\n",
    "channel_response = youtube.channels().list(\n",
    "    part=\"contentDetails\",\n",
    "    id=CHANNEL_ID\n",
    ").execute()\n",
    "\n",
    "uploads_playlist_id = channel_response[\"items\"][0][\"contentDetails\"][\"relatedPlaylists\"][\"uploads\"]\n",
    "print(\"Uploads Playlist ID:\", uploads_playlist_id)\n",
    "\n",
    "# Step 2: Get all videos from uploads playlist\n",
    "video_urls = []\n",
    "next_page_token = None\n",
    "\n",
    "while True:\n",
    "    playlist_request = youtube.playlistItems().list(\n",
    "        part=\"contentDetails\",\n",
    "        playlistId=uploads_playlist_id,\n",
    "        maxResults=50,\n",
    "        pageToken=next_page_token\n",
    "    )\n",
    "    playlist_response = playlist_request.execute()\n",
    "\n",
    "    for item in playlist_response[\"items\"]:\n",
    "        video_id = item[\"contentDetails\"][\"videoId\"]\n",
    "        video_urls.append(f\"https://www.youtube.com/watch?v={video_id}\")\n",
    "\n",
    "    next_page_token = playlist_response.get(\"nextPageToken\")\n",
    "    if not next_page_token:\n",
    "        break\n",
    "\n",
    "print(f\"Found {len(video_urls)} videos in total\")\n",
    "print(video_urls[:10], \"...\")\n"
   ]
  },
  {
   "cell_type": "code",
   "execution_count": 5,
   "id": "61af02a1",
   "metadata": {},
   "outputs": [
    {
     "name": "stdout",
     "output_type": "stream",
     "text": [
      "Saved all video URLs to athleanx_videos.txt\n"
     ]
    }
   ],
   "source": [
    "with open(\"athleanx_videos.txt\", \"w\") as f:\n",
    "    for url in video_urls:\n",
    "        f.write(url + \"\\n\")\n",
    "\n",
    "print(\"Saved all video URLs to athleanx_videos.txt\")\n"
   ]
  }
 ],
 "metadata": {
  "kernelspec": {
   "display_name": "base",
   "language": "python",
   "name": "python3"
  },
  "language_info": {
   "codemirror_mode": {
    "name": "ipython",
    "version": 3
   },
   "file_extension": ".py",
   "mimetype": "text/x-python",
   "name": "python",
   "nbconvert_exporter": "python",
   "pygments_lexer": "ipython3",
   "version": "3.12.8"
  }
 },
 "nbformat": 4,
 "nbformat_minor": 5
}
